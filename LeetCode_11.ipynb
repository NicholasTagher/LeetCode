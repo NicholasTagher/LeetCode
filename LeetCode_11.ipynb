{
 "cells": [
  {
   "cell_type": "code",
   "execution_count": null,
   "metadata": {},
   "outputs": [],
   "source": [
    "# Problem 11, Medium, https://leetcode.com/problems/container-with-most-water/"
   ]
  },
  {
   "cell_type": "code",
   "execution_count": 2,
   "metadata": {},
   "outputs": [
    {
     "name": "stdout",
     "output_type": "stream",
     "text": [
      "497572388\n"
     ]
    }
   ],
   "source": [
    "import random\n",
    "randomlist = random.sample(range(1,100000), random.randint(1,10000))\n",
    "#print(randomlist)\n",
    "\n",
    "max_area = 0\n",
    "for i in range(0,len(randomlist)):\n",
    "    for j in range(i+1,len(randomlist)):\n",
    "        area = (min(randomlist[i],randomlist[j])) * (j-i)\n",
    "        if area > max_area:\n",
    "            max_area = area\n",
    "print(max_area)"
   ]
  },
  {
   "cell_type": "code",
   "execution_count": null,
   "metadata": {},
   "outputs": [],
   "source": [
    "# test code\n",
    "\n",
    "for i in range(0,len(my_list)):\n",
    "    print('------')\n",
    "    for j in range(i+1,len(my_list)):\n",
    "        print(min(my_list[i],my_list[j]),j-i)"
   ]
  }
 ],
 "metadata": {
  "kernelspec": {
   "display_name": "Python 3",
   "language": "python",
   "name": "python3"
  },
  "language_info": {
   "codemirror_mode": {
    "name": "ipython",
    "version": 3
   },
   "file_extension": ".py",
   "mimetype": "text/x-python",
   "name": "python",
   "nbconvert_exporter": "python",
   "pygments_lexer": "ipython3",
   "version": "3.7.1"
  }
 },
 "nbformat": 4,
 "nbformat_minor": 2
}
